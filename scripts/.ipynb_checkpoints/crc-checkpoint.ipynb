{
 "cells": [
  {
   "cell_type": "code",
   "execution_count": 3,
   "id": "d74cd8cf-7690-40c7-9dc2-b5c6ce958486",
   "metadata": {},
   "outputs": [],
   "source": [
    "import numpy as np"
   ]
  },
  {
   "cell_type": "code",
   "execution_count": 99,
   "id": "9740b959-fa8a-41bf-a9e2-4fe0b64f3594",
   "metadata": {},
   "outputs": [],
   "source": [
    "import time \n",
    "def b(a): return format(a, 'b').zfill(14)\n",
    "\n",
    "def crc_remainder(input_bitstring, polynomial_bitstring, initial_filler):\n",
    "    \"\"\"Calculate the CRC remainder of a string of bits using a chosen polynomial.\n",
    "    initial_filler should be '1' or '0'.\n",
    "    \"\"\"\n",
    "    polynomial_bitstring = polynomial_bitstring.lstrip('0')\n",
    "    len_input = len(input_bitstring)\n",
    "    initial_padding = (len(polynomial_bitstring) - 1) * initial_filler\n",
    "    input_padded_array = list(input_bitstring + initial_padding)\n",
    "    while '1' in input_padded_array[:len_input]:\n",
    "        cur_shift = input_padded_array.index('1')\n",
    "        for i in range(len(polynomial_bitstring)):\n",
    "            input_padded_array[cur_shift + i] \\\n",
    "            = str(int(polynomial_bitstring[i] != input_padded_array[cur_shift + i]))\n",
    "    return ''.join(input_padded_array)[len_input:]\n",
    "\n",
    "\n",
    "def calculate(bit_sequence: int, input_length: int, generator_sequence: int) -> int:\n",
    "    bit_sequence <<= 3\n",
    "    generator_bits = generator_sequence.bit_length()\n",
    "    div = 0\n",
    "    while bit_sequence.bit_length() >= generator_sequence.bit_length():\n",
    "#     while bit_sequence >= generator_sequence:\n",
    "        shift = max(bit_sequence.bit_length()-generator_bits, 0)\n",
    "#         print(\"shifting\", shift)\n",
    "        div = generator_sequence<<shift\n",
    "        \n",
    "#         div = generator_sequence<<i\n",
    "#         print(b(bit_sequence))\n",
    "#         print(b(div))\n",
    "#         bit_sequence^=div\n",
    "        bit_sequence ^= div\n",
    "#         print(b(bit_sequence))\n",
    "#         print(\"___________________\")\n",
    "#         print(\" \")\n",
    "        \n",
    "    return bit_sequence\n",
    "\n",
    "# aa = crc_remainder('1101101', '1011', '0')\n",
    "# a = format(calculate(0b1101101, 1, 0b1011), 'b')\n",
    "\n",
    "# print(\"AA\", aa, a)\n",
    "\n",
    "def check(bit_sequence: int, input_length: int, generator_sequence: int, check_sequence: int) -> bool:\n",
    "    pass  # TODO"
   ]
  },
  {
   "cell_type": "code",
   "execution_count": 130,
   "id": "dd924280-61f4-4446-a685-0eb6c35b4518",
   "metadata": {},
   "outputs": [
    {
     "name": "stdout",
     "output_type": "stream",
     "text": [
      "10111\n",
      "4 2\n"
     ]
    },
    {
     "ename": "TypeError",
     "evalue": "int() can't convert non-string with explicit base",
     "output_type": "error",
     "traceback": [
      "\u001b[0;31m---------------------------------------------------------------------------\u001b[0m",
      "\u001b[0;31mTypeError\u001b[0m                                 Traceback (most recent call last)",
      "\u001b[0;32m<ipython-input-130-a9f33735757f>\u001b[0m in \u001b[0;36m<module>\u001b[0;34m\u001b[0m\n\u001b[1;32m     31\u001b[0m \u001b[0;34m\u001b[0m\u001b[0m\n\u001b[1;32m     32\u001b[0m \u001b[0;31m# test_calculate_example()\u001b[0m\u001b[0;34m\u001b[0m\u001b[0;34m\u001b[0m\u001b[0;34m\u001b[0m\u001b[0m\n\u001b[0;32m---> 33\u001b[0;31m \u001b[0mtest_with_wiki\u001b[0m\u001b[0;34m(\u001b[0m\u001b[0;34m)\u001b[0m\u001b[0;34m\u001b[0m\u001b[0;34m\u001b[0m\u001b[0m\n\u001b[0m",
      "\u001b[0;32m<ipython-input-130-a9f33735757f>\u001b[0m in \u001b[0;36mtest_with_wiki\u001b[0;34m()\u001b[0m\n\u001b[1;32m     27\u001b[0m         \u001b[0mb\u001b[0m \u001b[0;34m=\u001b[0m \u001b[0mcalculate\u001b[0m\u001b[0;34m(\u001b[0m\u001b[0mr\u001b[0m\u001b[0;34m,\u001b[0m \u001b[0;36m0\u001b[0m\u001b[0;34m,\u001b[0m \u001b[0mp\u001b[0m\u001b[0;34m)\u001b[0m\u001b[0;34m\u001b[0m\u001b[0;34m\u001b[0m\u001b[0m\n\u001b[1;32m     28\u001b[0m         \u001b[0mprint\u001b[0m\u001b[0;34m(\u001b[0m\u001b[0ma\u001b[0m\u001b[0;34m,\u001b[0m \u001b[0mb\u001b[0m\u001b[0;34m)\u001b[0m\u001b[0;34m\u001b[0m\u001b[0;34m\u001b[0m\u001b[0m\n\u001b[0;32m---> 29\u001b[0;31m         \u001b[0mprint\u001b[0m\u001b[0;34m(\u001b[0m\u001b[0mint\u001b[0m\u001b[0;34m(\u001b[0m\u001b[0ma\u001b[0m\u001b[0;34m,\u001b[0m \u001b[0;36m2\u001b[0m\u001b[0;34m)\u001b[0m\u001b[0;34m,\u001b[0m \u001b[0mb\u001b[0m\u001b[0;34m)\u001b[0m\u001b[0;34m\u001b[0m\u001b[0;34m\u001b[0m\u001b[0m\n\u001b[0m\u001b[1;32m     30\u001b[0m         \u001b[0;32massert\u001b[0m\u001b[0;34m(\u001b[0m\u001b[0ma\u001b[0m \u001b[0;34m==\u001b[0m \u001b[0mb\u001b[0m\u001b[0;34m)\u001b[0m\u001b[0;34m\u001b[0m\u001b[0;34m\u001b[0m\u001b[0m\n\u001b[1;32m     31\u001b[0m \u001b[0;34m\u001b[0m\u001b[0m\n",
      "\u001b[0;31mTypeError\u001b[0m: int() can't convert non-string with explicit base"
     ]
    }
   ],
   "source": [
    "import random\n",
    "\n",
    "def test_calculate_example():\n",
    "    bit_sequence = 0b11010011101100\n",
    "    generator_sequence = 0b1011\n",
    "    crc = calculate(bit_sequence, 14, generator_sequence)\n",
    "    print(b(crc))\n",
    "    print(b(0b100))\n",
    "    assert(0b100 == crc)\n",
    "\n",
    "def test_check_example():\n",
    "    bit_sequence = 0b11010011101100\n",
    "    generator_sequence = 0b1011\n",
    "    check = 0b100\n",
    "    crc = check(bit_sequence, 14, generator_sequence, check)\n",
    "    assert(crc)\n",
    "    \n",
    "    \n",
    "def test_with_wiki():\n",
    "    for i in range(1):\n",
    "        r = random.randint(100, 10000)\n",
    "#         p = random.randint(3, 20)\n",
    "        p = 0b10111\n",
    "        print(format(p, 'b'))\n",
    "        \n",
    "        a = int(crc_remainder(format(r, 'b'), format(p, 'b'), '0'), 2)\n",
    "        b = calculate(r, 0, p)\n",
    "        print(a, b)\n",
    "        print(int(a, 2), b)\n",
    "        assert(a == b)\n",
    "    \n",
    "# test_calculate_example()\n",
    "test_with_wiki()\n"
   ]
  },
  {
   "cell_type": "code",
   "execution_count": null,
   "id": "e365216c-e174-48dc-8dcc-7b4e47388d9a",
   "metadata": {},
   "outputs": [],
   "source": []
  },
  {
   "cell_type": "code",
   "execution_count": null,
   "id": "6281ff24-f528-46c6-9580-5adf242ac896",
   "metadata": {},
   "outputs": [],
   "source": []
  }
 ],
 "metadata": {
  "kernelspec": {
   "display_name": "Python 3",
   "language": "python",
   "name": "python3"
  },
  "language_info": {
   "codemirror_mode": {
    "name": "ipython",
    "version": 3
   },
   "file_extension": ".py",
   "mimetype": "text/x-python",
   "name": "python",
   "nbconvert_exporter": "python",
   "pygments_lexer": "ipython3",
   "version": "3.9.5"
  }
 },
 "nbformat": 4,
 "nbformat_minor": 5
}
